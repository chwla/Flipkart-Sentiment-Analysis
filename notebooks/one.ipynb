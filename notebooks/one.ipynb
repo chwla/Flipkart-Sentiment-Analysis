{
 "cells": [
  {
   "cell_type": "code",
   "execution_count": 16,
   "id": "0cf50d70",
   "metadata": {},
   "outputs": [
    {
     "name": "stdout",
     "output_type": "stream",
     "text": [
      "                                         ProductName     Price  Rate  \\\n",
      "0  Candes 12 L Room/Personal Air Cooler?ÿ?ÿ(White...  ??3,999   5.0   \n",
      "1  Candes 12 L Room/Personal Air Cooler?ÿ?ÿ(White...  ??3,999   5.0   \n",
      "2  Candes 12 L Room/Personal Air Cooler?ÿ?ÿ(White...  ??3,999   3.0   \n",
      "3  Candes 12 L Room/Personal Air Cooler?ÿ?ÿ(White...  ??3,999   1.0   \n",
      "4  Candes 12 L Room/Personal Air Cooler?ÿ?ÿ(White...  ??3,999   3.0   \n",
      "\n",
      "            Review                                            Summary  \\\n",
      "0           Super!  Great cooler.. excellent air flow and for this...   \n",
      "1          Awesome             Best budget 2 fit cooler. Nice cooling   \n",
      "2             Fair  The quality is good but the power of air is de...   \n",
      "3  Useless product                 Very bad product it's a only a fan   \n",
      "4             Fair                                      Ok ok product   \n",
      "\n",
      "                                           full_text  sentiment  fake_label  \n",
      "0  Great cooler.. excellent air flow and for this...          2           0  \n",
      "1     Best budget 2 fit cooler. Nice cooling Awesome          2           0  \n",
      "2  The quality is good but the power of air is de...          1           0  \n",
      "3  Very bad product it's a only a fan Useless pro...          0           0  \n",
      "4                                 Ok ok product Fair          1           0  \n"
     ]
    }
   ],
   "source": [
    "import pandas as pd\n",
    "df = pd.read_csv('../data/flipkart_product.csv', encoding='latin1')\n",
    "df['Review'] = df['Review'].astype(str).str.replace('\\n', ' ').str.strip()\n",
    "df['Summary'] = df['Summary'].astype(str).str.replace('\\n', ' ').str.strip()\n",
    "df['full_text'] = df['Summary'] + ' ' + df[\"Review\"]\n",
    "\n",
    "def sentiment_label(rate):\n",
    "    if rate ==2 or rate < 2: return 0 #negative\n",
    "    elif rate == 3: return 1 #neutral\n",
    "    else: return 2 # positive\n",
    "\n",
    "df['Rate'] = pd.to_numeric(df['Rate'], errors = 'coerce')    \n",
    "df['sentiment'] = df['Rate'].apply(sentiment_label)\n",
    "\n",
    "df['fake_label'] = ((df['full_text'].str.len() < 30) & (df['Rate'] >= 4)).astype(int)\n",
    "\n",
    "df.to_csv('../data/cleaned.csv', index = False)\n",
    "\n",
    "print(df.head())"
   ]
  },
  {
   "cell_type": "code",
   "execution_count": 17,
   "id": "6d211535",
   "metadata": {},
   "outputs": [],
   "source": [
    "from sklearn.model_selection import train_test_split\n",
    "\n",
    "X = df['full_text'].values\n",
    "y_sentiment = df['sentiment'].values\n",
    "y_fake = df['fake_label'].values\n",
    "\n",
    "X_train, X_test, y_sent_train, y_sent_test = train_test_split(X, y_sentiment, test_size=0.2, random_state=42)\n"
   ]
  },
  {
   "cell_type": "code",
   "execution_count": 22,
   "id": "ecd07a64",
   "metadata": {},
   "outputs": [
    {
     "name": "stderr",
     "output_type": "stream",
     "text": [
      "2025-09-16 13:26:29.802956: I tensorflow/core/util/port.cc:153] oneDNN custom operations are on. You may see slightly different numerical results due to floating-point round-off errors from different computation orders. To turn them off, set the environment variable `TF_ENABLE_ONEDNN_OPTS=0`.\n",
      "2025-09-16 13:26:30.307341: I tensorflow/core/platform/cpu_feature_guard.cc:210] This TensorFlow binary is optimized to use available CPU instructions in performance-critical operations.\n",
      "To enable the following instructions: AVX2 AVX512F AVX512_VNNI FMA, in other operations, rebuild TensorFlow with the appropriate compiler flags.\n",
      "2025-09-16 13:26:32.710649: I tensorflow/core/util/port.cc:153] oneDNN custom operations are on. You may see slightly different numerical results due to floating-point round-off errors from different computation orders. To turn them off, set the environment variable `TF_ENABLE_ONEDNN_OPTS=0`.\n"
     ]
    },
    {
     "ename": "TypeError",
     "evalue": "pad_sequences() got an unexpected keyword argument 'paddings'",
     "output_type": "error",
     "traceback": [
      "\u001b[31m---------------------------------------------------------------------------\u001b[39m",
      "\u001b[31mTypeError\u001b[39m                                 Traceback (most recent call last)",
      "\u001b[36mCell\u001b[39m\u001b[36m \u001b[39m\u001b[32mIn[22]\u001b[39m\u001b[32m, line 14\u001b[39m\n\u001b[32m     11\u001b[39m X_test_seq = tokenizer.texts_to_sequences(X_test)\n\u001b[32m     13\u001b[39m X_train_pad = pad_sequences(X_train_seq, maxlen=max_len, padding=\u001b[33m'\u001b[39m\u001b[33mpost\u001b[39m\u001b[33m'\u001b[39m)\n\u001b[32m---> \u001b[39m\u001b[32m14\u001b[39m X_test_pad = \u001b[43mpad_sequences\u001b[49m\u001b[43m(\u001b[49m\u001b[43mX_test_seq\u001b[49m\u001b[43m,\u001b[49m\u001b[43m \u001b[49m\u001b[43mmaxlen\u001b[49m\u001b[43m=\u001b[49m\u001b[43mmax_len\u001b[49m\u001b[43m,\u001b[49m\u001b[43m \u001b[49m\u001b[43mpaddings\u001b[49m\u001b[43m=\u001b[49m\u001b[33;43m'\u001b[39;49m\u001b[33;43mpost\u001b[39;49m\u001b[33;43m'\u001b[39;49m\u001b[43m)\u001b[49m\n",
      "\u001b[31mTypeError\u001b[39m: pad_sequences() got an unexpected keyword argument 'paddings'"
     ]
    }
   ],
   "source": [
    "from tensorflow.keras.preprocessing.text import Tokenizer\n",
    "from tensorflow.keras.preprocessing.sequence import pad_sequences\n",
    "\n",
    "max_words = 5000 #consider top 5000 words\n",
    "max_len = 100 # max sequence length\n",
    "\n",
    "tokenizer = Tokenizer(num_words = max_words, oov_token='<OOV>')\n",
    "tokenizer.fit_on_texts(X_train)\n",
    "\n",
    "X_train_seq = tokenizer.texts_to_sequences(X_train)\n",
    "X_test_seq = tokenizer.texts_to_sequences(X_test)\n",
    "\n",
    "X_train_pad = pad_sequences(X_train_seq, maxlen=max_len, padding='post')\n",
    "X_test_pad = pad_sequences(X_test_seq, maxlen=max_len, paddings='post')"
   ]
  },
  {
   "cell_type": "code",
   "execution_count": null,
   "id": "6870b085",
   "metadata": {},
   "outputs": [
    {
     "ename": "NameError",
     "evalue": "name 'Sequential' is not defined",
     "output_type": "error",
     "traceback": [
      "\u001b[31m---------------------------------------------------------------------------\u001b[39m",
      "\u001b[31mNameError\u001b[39m                                 Traceback (most recent call last)",
      "\u001b[36mCell\u001b[39m\u001b[36m \u001b[39m\u001b[32mIn[19]\u001b[39m\u001b[32m, line 1\u001b[39m\n\u001b[32m----> \u001b[39m\u001b[32m1\u001b[39m model_sentiment = \u001b[43mSequential\u001b[49m([\n\u001b[32m      2\u001b[39m     Embedding(input_dim=max_words, output_dim=\u001b[32m64\u001b[39m, input_length=max_len),\n\u001b[32m      3\u001b[39m     LSTM(\u001b[32m64\u001b[39m, dropout=\u001b[32m0.2\u001b[39m, recurrent_dropout=\u001b[32m0.2\u001b[39m),\n\u001b[32m      4\u001b[39m     Dense(\u001b[32m32\u001b[39m, activation=\u001b[33m'\u001b[39m\u001b[33mrelu\u001b[39m\u001b[33m'\u001b[39m),\n\u001b[32m      5\u001b[39m     Dropout(\u001b[32m0.2\u001b[39m),\n\u001b[32m      6\u001b[39m     Dense(\u001b[32m3\u001b[39m, activation=\u001b[33m'\u001b[39m\u001b[33msoftmax\u001b[39m\u001b[33m'\u001b[39m) \u001b[38;5;66;03m#3 classes: negative, neutral, positive\u001b[39;00m\n\u001b[32m      7\u001b[39m ])\n\u001b[32m      9\u001b[39m model_sentiment.compile(loss=\u001b[33m'\u001b[39m\u001b[33msparse_categorical_crossentropy\u001b[39m\u001b[33m'\u001b[39m, optimizers=\u001b[33m'\u001b[39m\u001b[33madam\u001b[39m\u001b[33m'\u001b[39m, metrics=[\u001b[33m'\u001b[39m\u001b[33maccuracy\u001b[39m\u001b[33m'\u001b[39m])\n\u001b[32m     10\u001b[39m model_sentiment.summary()\n",
      "\u001b[31mNameError\u001b[39m: name 'Sequential' is not defined"
     ]
    }
   ],
   "source": [
    "model_sentiment = Sequential([\n",
    "    Embedding(input_dim=max_words, output_dim=64, input_length=max_len),\n",
    "    LSTM(64, dropout=0.2, recurrent_dropout=0.2),\n",
    "    Dense(32, activation='relu'),\n",
    "    Dropout(0.2),\n",
    "    Dense(3, activation='softmax') #3 classes: negative, neutral, positive\n",
    "])\n",
    "\n",
    "model_sentiment.compile(loss='sparse_categorical_crossentropy', optimizer='adam', metrics=['accuracy'])\n",
    "model_sentiment.summary()"
   ]
  },
  {
   "cell_type": "code",
   "execution_count": null,
   "id": "7de5bf07",
   "metadata": {},
   "outputs": [
    {
     "ename": "NameError",
     "evalue": "name 'model_sentiment' is not defined",
     "output_type": "error",
     "traceback": [
      "\u001b[31m---------------------------------------------------------------------------\u001b[39m",
      "\u001b[31mNameError\u001b[39m                                 Traceback (most recent call last)",
      "\u001b[36mCell\u001b[39m\u001b[36m \u001b[39m\u001b[32mIn[20]\u001b[39m\u001b[32m, line 1\u001b[39m\n\u001b[32m----> \u001b[39m\u001b[32m1\u001b[39m history_sent = \u001b[43mmodel_sentiment\u001b[49m.fit(X_train_pad, y_sent_train, \n\u001b[32m      2\u001b[39m                                    epochs=\u001b[32m5\u001b[39m,\n\u001b[32m      3\u001b[39m                                    batch_size=\u001b[32m64\u001b[39m,\n\u001b[32m      4\u001b[39m                                    validation_data=(X_test_pad, y_sent_test))\n",
      "\u001b[31mNameError\u001b[39m: name 'model_sentiment' is not defined"
     ]
    }
   ],
   "source": [
    "history_sent = model_sentiment.fit(X_train_pad, y_sent_train, \n",
    "                                   epochs=5,\n",
    "                                   batch_size=64,\n",
    "                                   validation_data=(X_test_pad, y_sent_test))"
   ]
  },
  {
   "cell_type": "code",
   "execution_count": 23,
   "id": "ae2a64e1",
   "metadata": {},
   "outputs": [
    {
     "ename": "NameError",
     "evalue": "name 'Sequential' is not defined",
     "output_type": "error",
     "traceback": [
      "\u001b[31m---------------------------------------------------------------------------\u001b[39m",
      "\u001b[31mNameError\u001b[39m                                 Traceback (most recent call last)",
      "\u001b[36mCell\u001b[39m\u001b[36m \u001b[39m\u001b[32mIn[23]\u001b[39m\u001b[32m, line 1\u001b[39m\n\u001b[32m----> \u001b[39m\u001b[32m1\u001b[39m model_fake = \u001b[43mSequential\u001b[49m([\n\u001b[32m      2\u001b[39m     Embedding(input_dim=max_words, output_dim=\u001b[32m64\u001b[39m, input_length=max_len),\n\u001b[32m      3\u001b[39m     LSTM(\u001b[32m64\u001b[39m, dropout=\u001b[32m0.2\u001b[39m, recurrent_dropout=\u001b[32m0.2\u001b[39m),\n\u001b[32m      4\u001b[39m     Dense(\u001b[32m32\u001b[39m, activation=\u001b[33m'\u001b[39m\u001b[33mrelu\u001b[39m\u001b[33m'\u001b[39m),\n\u001b[32m      5\u001b[39m     Dropout(\u001b[32m0.2\u001b[39m),\n\u001b[32m      6\u001b[39m     Dense(\u001b[32m1\u001b[39m, activation=\u001b[33m'\u001b[39m\u001b[33msigmoid\u001b[39m\u001b[33m'\u001b[39m) \u001b[38;5;66;03m#binary classification\u001b[39;00m\n\u001b[32m      7\u001b[39m ])\n\u001b[32m      9\u001b[39m model_fake.compile(loss=\u001b[33m'\u001b[39m\u001b[33mbinary_crossentropy\u001b[39m\u001b[33m'\u001b[39m, optimizer=\u001b[33m'\u001b[39m\u001b[33madam\u001b[39m\u001b[33m'\u001b[39m, metrics=[\u001b[33m'\u001b[39m\u001b[33maccuracy\u001b[39m\u001b[33m'\u001b[39m])\n\u001b[32m     11\u001b[39m history_fake = model_fake.fit(X_train_pad, y_fake_train,\n\u001b[32m     12\u001b[39m                               epochs = \u001b[32m5\u001b[39m,\n\u001b[32m     13\u001b[39m                               batch_size = \u001b[32m64\u001b[39m,\n\u001b[32m     14\u001b[39m                               validation_data = (X_test_pad, y_fake_test))\n",
      "\u001b[31mNameError\u001b[39m: name 'Sequential' is not defined"
     ]
    }
   ],
   "source": [
    "model_fake = Sequential([\n",
    "    Embedding(input_dim=max_words, output_dim=64, input_length=max_len),\n",
    "    LSTM(64, dropout=0.2, recurrent_dropout=0.2),\n",
    "    Dense(32, activation='relu'),\n",
    "    Dropout(0.2),\n",
    "    Dense(1, activation='sigmoid') #binary classification\n",
    "])\n",
    "\n",
    "model_fake.compile(loss='binary_crossentropy', optimizer='adam', metrics=['accuracy'])\n",
    "\n",
    "history_fake = model_fake.fit(X_train_pad, y_fake_train,\n",
    "                              epochs = 5,\n",
    "                              batch_size = 64,\n",
    "                              validation_data = (X_test_pad, y_fake_test))"
   ]
  },
  {
   "cell_type": "code",
   "execution_count": null,
   "id": "c440bd10",
   "metadata": {},
   "outputs": [],
   "source": [
    "model_sentiment.save('../models/sentiment_model.h5')\n",
    "model_fake.save('../models/fake_model.h5')"
   ]
  }
 ],
 "metadata": {
  "kernelspec": {
   "display_name": "venv",
   "language": "python",
   "name": "python3"
  },
  "language_info": {
   "codemirror_mode": {
    "name": "ipython",
    "version": 3
   },
   "file_extension": ".py",
   "mimetype": "text/x-python",
   "name": "python",
   "nbconvert_exporter": "python",
   "pygments_lexer": "ipython3",
   "version": "3.12.3"
  }
 },
 "nbformat": 4,
 "nbformat_minor": 5
}
